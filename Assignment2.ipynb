{
  "nbformat": 4,
  "nbformat_minor": 0,
  "metadata": {
    "colab": {
      "name": "Assignment2.ipynb",
      "provenance": [],
      "collapsed_sections": []
    },
    "kernelspec": {
      "name": "python3",
      "display_name": "Python 3"
    }
  },
  "cells": [
    {
      "cell_type": "markdown",
      "metadata": {
        "id": "0h2Rfw6CPYKO"
      },
      "source": [
        "Using if and else if for grading based on the user input"
      ]
    },
    {
      "cell_type": "code",
      "metadata": {
        "colab": {
          "base_uri": "https://localhost:8080/"
        },
        "id": "Sc0A0U30PJ7E",
        "outputId": "43ff407e-128f-4303-bc9a-62ff49c103b8"
      },
      "source": [
        "name = input(\"Please enter your name\")\n",
        "marks = int(input(\"Please enter your marks\"))\n",
        "if marks>90:\n",
        "    print(name,\"has got A grade!\")\n",
        "elif marks>80:\n",
        "    print(name,\"has got B grade!\")\n",
        "elif marks>70:\n",
        "    print(name,\"has got C grade!\")\n",
        "elif marks>60:\n",
        "    print(name,\"has got D grade!\")\n",
        "else:\n",
        "    print(name,\"has failed!\")"
      ],
      "execution_count": null,
      "outputs": [
        {
          "output_type": "stream",
          "text": [
            "Please enter your nameNourin\n",
            "Please enter your marks94\n",
            "Nourin has got A grade!\n"
          ],
          "name": "stdout"
        }
      ]
    },
    {
      "cell_type": "code",
      "metadata": {
        "id": "d6NIuwzwQ3nG"
      },
      "source": [
        "studentmarks = {\n",
        "    'Freddy': 50,\n",
        "    \"Honey\" : 34,\n",
        "    \"Bunny\" : 84,\n",
        "    \"Sunny\" :15,\n",
        "    \"Bhopat\" :66,\n",
        "    \"Manu\" : 43\n",
        "  }"
      ],
      "execution_count": null,
      "outputs": []
    },
    {
      "cell_type": "code",
      "metadata": {
        "colab": {
          "base_uri": "https://localhost:8080/"
        },
        "id": "j5yhMj7FSYyQ",
        "outputId": "7bd11db3-9848-414b-a8a0-2ca02a27a132"
      },
      "source": [
        "  studentmarks.keys()"
      ],
      "execution_count": null,
      "outputs": [
        {
          "output_type": "execute_result",
          "data": {
            "text/plain": [
              "dict_keys(['Freddy', 'Honey', 'Bunny', 'Sunny', 'Bhopat', 'Manu'])"
            ]
          },
          "metadata": {
            "tags": []
          },
          "execution_count": 8
        }
      ]
    },
    {
      "cell_type": "code",
      "metadata": {
        "colab": {
          "base_uri": "https://localhost:8080/"
        },
        "id": "isslk-3mS3CM",
        "outputId": "fd7305b8-d6fd-43c4-b204-6fe0d7457ca7"
      },
      "source": [
        "for i in studentmarks.keys() :\n",
        "  if studentmarks[i]>60:\n",
        "    print(i,\"has failed\")"
      ],
      "execution_count": null,
      "outputs": [
        {
          "output_type": "stream",
          "text": [
            "Bunny has failed\n",
            "Bhopat has failed\n"
          ],
          "name": "stdout"
        }
      ]
    },
    {
      "cell_type": "markdown",
      "metadata": {
        "id": "U78aIbkuTS44"
      },
      "source": [
        "-Extend the username password block to support OTP verification\n"
      ]
    },
    {
      "cell_type": "code",
      "metadata": {
        "colab": {
          "base_uri": "https://localhost:8080/"
        },
        "id": "nYublsYSTfrb",
        "outputId": "db1f311f-b2f4-487f-c98a-0ff2ede0f9fb"
      },
      "source": [
        "Name= \"Nourin\"\n",
        "Password =\"662915\"\n",
        "one_time_password= \"442600\"\n",
        "username = input(\"Enter username:\")\n",
        "password = input(\"Enter password:\")\n",
        "if username==Name:\n",
        "  if password==Password:\n",
        "    print(\"Your OTP is- 442600\")\n",
        "  else:\n",
        "    print(\"The password you entered is wrong!\")\n",
        "else:\n",
        "  print(\"Invalid username\")\n",
        "\n",
        "otp= input(\"Please enter the OTP you recieved:\")\n",
        "if otp==one_time_password :\n",
        "  print(\"Welcome\",Name)\n",
        "else:\n",
        "  print(\"The OTP is wrong.\")"
      ],
      "execution_count": null,
      "outputs": [
        {
          "output_type": "stream",
          "text": [
            "Enter username:Nourin\n",
            "Enter password:662915\n",
            "Your OTP is- 442600\n",
            "Please enter the OTP you recieved:442600\n",
            "Welcome Nourin\n"
          ],
          "name": "stdout"
        }
      ]
    }
  ]
}