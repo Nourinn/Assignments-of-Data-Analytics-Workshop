{
  "nbformat": 4,
  "nbformat_minor": 0,
  "metadata": {
    "colab": {
      "name": "Assignment1.ipynb",
      "provenance": [],
      "collapsed_sections": []
    },
    "kernelspec": {
      "name": "python3",
      "display_name": "Python 3"
    }
  },
  "cells": [
    {
      "cell_type": "markdown",
      "metadata": {
        "id": "-RrroF6p6e0q"
      },
      "source": [
        "Hello Python"
      ]
    },
    {
      "cell_type": "code",
      "metadata": {
        "colab": {
          "base_uri": "https://localhost:8080/"
        },
        "id": "I_ffgL65zl2T",
        "outputId": "7ecf93c8-b36d-499e-ec5a-269f8ba365f5"
      },
      "source": [
        "print(\"Hello Python!\")"
      ],
      "execution_count": null,
      "outputs": [
        {
          "output_type": "stream",
          "text": [
            "Hello Python!\n"
          ],
          "name": "stdout"
        }
      ]
    },
    {
      "cell_type": "markdown",
      "metadata": {
        "id": "ClUAtAD86yGe"
      },
      "source": [
        "Operations"
      ]
    },
    {
      "cell_type": "code",
      "metadata": {
        "colab": {
          "base_uri": "https://localhost:8080/"
        },
        "id": "pcKtOPIv619n",
        "outputId": "bb4448cc-9f4c-4dae-cc36-48264e5a75e5"
      },
      "source": [
        "4+2"
      ],
      "execution_count": null,
      "outputs": [
        {
          "output_type": "execute_result",
          "data": {
            "text/plain": [
              "6"
            ]
          },
          "metadata": {
            "tags": []
          },
          "execution_count": 2
        }
      ]
    },
    {
      "cell_type": "code",
      "metadata": {
        "colab": {
          "base_uri": "https://localhost:8080/"
        },
        "id": "Cv7qWz2A8A9P",
        "outputId": "90c5b8de-99f4-4e82-dcb7-1e402a30f51a"
      },
      "source": [
        "4-2"
      ],
      "execution_count": null,
      "outputs": [
        {
          "output_type": "execute_result",
          "data": {
            "text/plain": [
              "2"
            ]
          },
          "metadata": {
            "tags": []
          },
          "execution_count": 3
        }
      ]
    },
    {
      "cell_type": "code",
      "metadata": {
        "colab": {
          "base_uri": "https://localhost:8080/"
        },
        "id": "NEmVOenq8EoG",
        "outputId": "f1e29a31-3726-4ab6-b000-e9031d3530af"
      },
      "source": [
        "6*3"
      ],
      "execution_count": null,
      "outputs": [
        {
          "output_type": "execute_result",
          "data": {
            "text/plain": [
              "18"
            ]
          },
          "metadata": {
            "tags": []
          },
          "execution_count": 4
        }
      ]
    },
    {
      "cell_type": "code",
      "metadata": {
        "colab": {
          "base_uri": "https://localhost:8080/"
        },
        "id": "LFAJK4F88Ihk",
        "outputId": "431b478d-5db9-4311-b0ba-0f69b9b2668a"
      },
      "source": [
        "81/9"
      ],
      "execution_count": null,
      "outputs": [
        {
          "output_type": "execute_result",
          "data": {
            "text/plain": [
              "9.0"
            ]
          },
          "metadata": {
            "tags": []
          },
          "execution_count": 5
        }
      ]
    },
    {
      "cell_type": "markdown",
      "metadata": {
        "id": "pwCYQv5h8NXp"
      },
      "source": [
        "Introduction to input and int function"
      ]
    },
    {
      "cell_type": "code",
      "metadata": {
        "colab": {
          "base_uri": "https://localhost:8080/"
        },
        "id": "KWXlyAxNLp6k",
        "outputId": "75191710-d27e-44f0-c6ad-439e0da5b340"
      },
      "source": [
        "print(int(input(\"enter number\"))+7)\n",
        "print(int(input(\"enter number\"))-6)\n",
        "print(int(input(\"enter number\"))*3)\n",
        "print(int(input(\"enter number\"))/8)"
      ],
      "execution_count": null,
      "outputs": [
        {
          "output_type": "stream",
          "text": [
            "enter number7\n",
            "14\n",
            "enter number6\n",
            "0\n",
            "enter number7\n",
            "21\n",
            "enter number16\n",
            "2.0\n"
          ],
          "name": "stdout"
        }
      ]
    },
    {
      "cell_type": "markdown",
      "metadata": {
        "id": "_Eroszyl9kug"
      },
      "source": [
        "Operations by giving integer value to variables"
      ]
    },
    {
      "cell_type": "code",
      "metadata": {
        "colab": {
          "base_uri": "https://localhost:8080/"
        },
        "id": "2C0JS9LT9uHF",
        "outputId": "1bc40d7c-74c5-4eeb-d3fc-a7b2280955f2"
      },
      "source": [
        "a= int(input(\"enter number\"))\n",
        "b= int(input(\"enter number\"))\n",
        "print(a+b)\n",
        "print(a-b)\n",
        "print(a*b)\n",
        "print(a/b)"
      ],
      "execution_count": null,
      "outputs": [
        {
          "output_type": "stream",
          "text": [
            "enter number12\n",
            "enter number3\n",
            "15\n",
            "9\n",
            "36\n",
            "4.0\n"
          ],
          "name": "stdout"
        }
      ]
    },
    {
      "cell_type": "code",
      "metadata": {
        "colab": {
          "base_uri": "https://localhost:8080/"
        },
        "id": "uYyldgdb_Mad",
        "outputId": "35840783-fc0c-49e1-e2ea-6b4516481f8d"
      },
      "source": [
        "a= 6\n",
        "b= 3\n",
        "print(a+b)\n",
        "print(a-b)\n",
        "print(a*b)\n",
        "print(a/b)"
      ],
      "execution_count": null,
      "outputs": [
        {
          "output_type": "stream",
          "text": [
            "9\n",
            "3\n",
            "18\n",
            "2.0\n"
          ],
          "name": "stdout"
        }
      ]
    }
  ]
}